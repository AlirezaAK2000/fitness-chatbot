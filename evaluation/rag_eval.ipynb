{
 "cells": [
  {
   "cell_type": "code",
   "execution_count": null,
   "id": "292a4acd",
   "metadata": {},
   "outputs": [],
   "source": [
    "!pip install -q ragas rapidfuzz\n",
    "!pip install -q sentence_transformers tiktoken lark\n",
    "!pip install -q langchain langchain-core langchain-google-genai"
   ]
  },
  {
   "cell_type": "code",
   "execution_count": 4,
   "id": "45a3c7c7",
   "metadata": {},
   "outputs": [],
   "source": [
    "from dotenv import load_dotenv\n",
    "import os\n",
    "import pandas as pd\n",
    "\n",
    "load_dotenv()\n",
    "\n",
    "gemini_api_key = os.getenv(\"GEMINI_API_KEY\")"
   ]
  },
  {
   "cell_type": "code",
   "execution_count": 5,
   "id": "bfff6fb7",
   "metadata": {},
   "outputs": [],
   "source": [
    "from langchain_google_genai import ChatGoogleGenerativeAI\n",
    "\n",
    "MODEL_NAME = \"gemini-2.5-flash-preview-05-20\"\n",
    "\n",
    "gemini_chat = ChatGoogleGenerativeAI(model=MODEL_NAME, temperature=0, api_key=gemini_api_key)\n",
    "gemini_chat_half = ChatGoogleGenerativeAI(model=MODEL_NAME, temperature=0.5, api_key=gemini_api_key)\n",
    "gemini_chat_1 = ChatGoogleGenerativeAI(model=MODEL_NAME, temperature=1, api_key=gemini_api_key)\n"
   ]
  },
  {
   "cell_type": "code",
   "execution_count": null,
   "id": "566ef606",
   "metadata": {},
   "outputs": [],
   "source": [
    "from ragas.llms import LangchainLLMWrapper\n",
    "from langchain.embeddings import HuggingFaceEmbeddings\n",
    "\n",
    "embeddings = HuggingFaceEmbeddings(model_name=\"BAAI/bge-small-en\")\n",
    "ragas_llm = LangchainLLMWrapper(gemini_chat)"
   ]
  },
  {
   "cell_type": "code",
   "execution_count": null,
   "id": "1d0eaeea",
   "metadata": {},
   "outputs": [],
   "source": [
    "# import documents\n",
    "\n",
    "from ragas.testset import TestsetGenerator\n",
    "\n",
    "generator = TestsetGenerator(llm=ragas_llm, embedding_model=embeddings)\n",
    "\n",
    "test_set = generator.generate_with_langchain_docs(documents, testset_size=10)\n"
   ]
  },
  {
   "cell_type": "code",
   "execution_count": null,
   "id": "fcdfb86a",
   "metadata": {},
   "outputs": [],
   "source": [
    "test_df = test_set.to_pandas()\n",
    "test_df.to_pickle('./ragas_testset.pkl')\n",
    "test_df.head(3)"
   ]
  },
  {
   "cell_type": "code",
   "execution_count": null,
   "id": "38688836",
   "metadata": {},
   "outputs": [],
   "source": [
    "import pandas as pd\n",
    "\n",
    "test_df = pd.read_pickle('./ragas_testset.pkl')"
   ]
  },
  {
   "cell_type": "code",
   "execution_count": null,
   "id": "60dffe4c",
   "metadata": {},
   "outputs": [],
   "source": [
    "test_questions = test_df[\"user_input\"].values.tolist()\n",
    "test_ground_truths = test_df[\"reference\"].values.tolist()"
   ]
  },
  {
   "cell_type": "code",
   "execution_count": null,
   "id": "5f6fb8e3",
   "metadata": {},
   "outputs": [],
   "source": [
    "# import agent\n",
    "\n",
    "results = {\n",
    "    \"answers\": [],\n",
    "    \"contexts\": []\n",
    "}\n",
    "\n",
    "for question in test_questions:\n",
    "    q = {\"question\": question}\n",
    "    response = rag_agent.invoke(q)\n",
    "\n",
    "    results[\"answers\"].append(response[\"response\"])\n",
    "    results[\"contexts\"].append([response[\"context\"]])\n",
    "\n"
   ]
  },
  {
   "cell_type": "code",
   "execution_count": null,
   "id": "f5d6557f",
   "metadata": {},
   "outputs": [],
   "source": [
    "from datasets import Dataset\n",
    "\n",
    "response_dataset = Dataset.from_dict({\n",
    "    \"question\" : test_questions,\n",
    "    \"answer\" : results[\"answers\"],\n",
    "    \"contexts\" : results[\"contexts\"],\n",
    "    \"ground_truth\" : test_ground_truths\n",
    "})\n"
   ]
  },
  {
   "cell_type": "code",
   "execution_count": null,
   "id": "0d05b1d9",
   "metadata": {},
   "outputs": [],
   "source": [
    "response_dataset.save_to_disk('./response')\n"
   ]
  },
  {
   "cell_type": "code",
   "execution_count": null,
   "id": "8c838664",
   "metadata": {},
   "outputs": [],
   "source": [
    "from datasets import load_from_disk\n",
    "response_dataset = load_from_disk('./response')\n"
   ]
  },
  {
   "cell_type": "code",
   "execution_count": 10,
   "id": "83c98cad",
   "metadata": {},
   "outputs": [],
   "source": [
    "from ragas import evaluate\n",
    "from ragas.metrics import faithfulness, answer_correctness, context_recall, context_precision\n",
    "\n",
    "metrics = [\n",
    "    faithfulness,\n",
    "    answer_correctness,\n",
    "    context_recall,\n",
    "    context_precision,\n",
    "]"
   ]
  },
  {
   "cell_type": "code",
   "execution_count": 16,
   "id": "085cdfcd",
   "metadata": {},
   "outputs": [
    {
     "data": {
      "application/vnd.jupyter.widget-view+json": {
       "model_id": "5dde0c3d25f947a7ae4ce7e58a266c3b",
       "version_major": 2,
       "version_minor": 0
      },
      "text/plain": [
       "Evaluating:   0%|          | 0/4 [00:00<?, ?it/s]"
      ]
     },
     "metadata": {},
     "output_type": "display_data"
    },
    {
     "name": "stderr",
     "output_type": "stream",
     "text": [
      "/home/zeus/miniconda3/envs/cloudspace/lib/python3.10/site-packages/torch/nn/modules/module.py:1762: FutureWarning: `encoder_attention_mask` is deprecated and will be removed in version 4.55.0 for `BertSdpaSelfAttention.forward`.\n",
      "  return forward_call(*args, **kwargs)\n"
     ]
    },
    {
     "name": "stdout",
     "output_type": "stream",
     "text": [
      "RAG Score: [{'faithfulness': 1.0, 'answer_correctness': 1.0, 'context_recall': 1.0, 'context_precision': 0.9999999999}]\n"
     ]
    }
   ],
   "source": [
    "eval = evaluate(dataset=response_dataset, metrics=metrics, llm=ragas_llm, embeddings=embeddings,)\n",
    "\n",
    "print(f\"RAG Score: {eval.scores}\")\n"
   ]
  }
 ],
 "metadata": {
  "kernelspec": {
   "display_name": "cloudspace",
   "language": "python",
   "name": "python3"
  },
  "language_info": {
   "codemirror_mode": {
    "name": "ipython",
    "version": 3
   },
   "file_extension": ".py",
   "mimetype": "text/x-python",
   "name": "python",
   "nbconvert_exporter": "python",
   "pygments_lexer": "ipython3",
   "version": "3.10.10"
  }
 },
 "nbformat": 4,
 "nbformat_minor": 5
}
