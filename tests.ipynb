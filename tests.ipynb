{
 "cells": [
  {
   "cell_type": "code",
   "execution_count": 9,
   "id": "64d39071",
   "metadata": {},
   "outputs": [
    {
     "data": {
      "text/plain": [
       "True"
      ]
     },
     "execution_count": 9,
     "metadata": {},
     "output_type": "execute_result"
    }
   ],
   "source": [
    "from dotenv import load_dotenv\n",
    "import os \n",
    "\n",
    "load_dotenv()"
   ]
  },
  {
   "cell_type": "code",
   "execution_count": 59,
   "id": "c90d16e8",
   "metadata": {},
   "outputs": [
    {
     "data": {
      "text/plain": [
       "AIMessage(content=\"J'aime la programmation.\", additional_kwargs={}, response_metadata={'prompt_feedback': {'block_reason': 0, 'safety_ratings': []}, 'finish_reason': 'STOP', 'model_name': 'models/gemini-2.5-flash-preview-05-20', 'safety_ratings': []}, id='run--ddda1cc1-9cb8-4868-8008-8f6ef085a537-0', usage_metadata={'input_tokens': 21, 'output_tokens': 7, 'total_tokens': 111, 'input_token_details': {'cache_read': 0}, 'output_token_details': {'reasoning': 83}})"
      ]
     },
     "execution_count": 59,
     "metadata": {},
     "output_type": "execute_result"
    }
   ],
   "source": [
    "from langchain_google_genai import ChatGoogleGenerativeAI\n",
    "from langchain_openai import ChatOpenAI\n",
    "\n",
    "if \"GOOGLE_API_KEY\" not in os.environ:\n",
    "    os.environ[\"GOOGLE_API_KEY\"] = getpass.getpass(\"Enter your Google AI API key: \")\n",
    "\n",
    "\n",
    "\n",
    "llm = ChatGoogleGenerativeAI(\n",
    "    model=\"gemini-2.5-flash-preview-05-20\",\n",
    "    \n",
    ")\n",
    "\n",
    "\n",
    "\n",
    "messages = [\n",
    "    (\n",
    "        \"system\",\n",
    "        \"You are a helpful assistant that translates English to French. Translate the user sentence.\",\n",
    "    ),\n",
    "    (\"human\", \"I love programming.\"),\n",
    "]\n",
    "ai_msg = llm.invoke(messages)\n",
    "ai_msg"
   ]
  },
  {
   "cell_type": "code",
   "execution_count": 61,
   "id": "463cc40c",
   "metadata": {},
   "outputs": [
    {
     "data": {
      "text/plain": [
       "AIMessage(content=\"J'aime le programmation.\", additional_kwargs={'refusal': None}, response_metadata={'token_usage': {'completion_tokens': 274, 'prompt_tokens': 25, 'total_tokens': 299, 'completion_tokens_details': None, 'prompt_tokens_details': None}, 'model_name': 'deepseek/deepseek-r1-0528-qwen3-8b:free', 'system_fingerprint': None, 'id': 'gen-1749389531-t24c4fDMB6e6rlKDrvBW', 'service_tier': None, 'finish_reason': 'stop', 'logprobs': None}, id='run--8c0e02b6-1c1c-4042-ab6b-b48c7f098d6f-0', usage_metadata={'input_tokens': 25, 'output_tokens': 274, 'total_tokens': 299, 'input_token_details': {}, 'output_token_details': {}})"
      ]
     },
     "execution_count": 61,
     "metadata": {},
     "output_type": "execute_result"
    }
   ],
   "source": [
    "smoll_llm = ChatOpenAI(\n",
    "    model='deepseek/deepseek-r1-0528-qwen3-8b:free',\n",
    "    base_url=\"https://openrouter.ai/api/v1\",\n",
    "    api_key=os.environ['OPEN_ROUTER_KEY'],\n",
    "    temperature=0.15\n",
    ")\n",
    "\n",
    "\n",
    "smoll_llm.invoke(messages)"
   ]
  },
  {
   "cell_type": "code",
   "execution_count": null,
   "id": "d30a55cc",
   "metadata": {},
   "outputs": [],
   "source": []
  },
  {
   "cell_type": "code",
   "execution_count": null,
   "id": "8adc6268",
   "metadata": {},
   "outputs": [],
   "source": []
  },
  {
   "cell_type": "code",
   "execution_count": 31,
   "id": "77d2da15",
   "metadata": {},
   "outputs": [],
   "source": []
  },
  {
   "cell_type": "markdown",
   "id": "f901f8c0",
   "metadata": {},
   "source": [
    "## Fake Data Generation"
   ]
  },
  {
   "cell_type": "code",
   "execution_count": 67,
   "id": "fce8bcec",
   "metadata": {},
   "outputs": [],
   "source": [
    "from datetime import date\n",
    "from enum import Enum\n",
    "from typing import List\n",
    "from pydantic import BaseModel, Field\n",
    "\n",
    "\n",
    "class Sex(str, Enum):\n",
    "    M = 'M'\n",
    "    F = 'F'\n",
    "    O = 'O'\n",
    "\n",
    "\n",
    "class EntryType(str, Enum):\n",
    "    weight_check = 'weight_check'\n",
    "    meal         = 'meal'\n",
    "    workout      = 'workout'\n",
    "    note         = 'note'\n",
    "\n",
    "\n",
    "class UserSample(BaseModel):\n",
    "    email: str = Field(..., description=\"User's email address, must be unique\")\n",
    "    password: str = Field(..., description=\"password for authentication\")\n",
    "    first_name: str = Field(None, description=\"User's given name\")\n",
    "    last_name: str = Field(None, description=\"User's family name\")\n",
    "    date_of_birth: date = Field(None, description=\"Date of birth for age calculation\")\n",
    "    sex: Sex = Field(None, description=\"Sex of the user: M, F, or O (other)\")\n",
    "    height_cm: float = Field(None, description=\"Height in centimeters\")\n",
    "    weight_kg: float = Field(None, description=\"Weight in kilograms\")\n",
    "    activity_level: str = Field(None, description=\"Free-form description of daily activity level\")\n",
    "    dietary_pref: str = Field(None, description=\"Free-form dietary preference or restriction\")\n",
    "    fitness_goals: str = Field(None, description=\"Free-form fitness goals the user wants to achieve\")\n",
    "    \n",
    "\n",
    "\n",
    "class UserSamples(BaseModel):\n",
    "    users: List[UserSample] = Field(description=\"List of user samples\")"
   ]
  },
  {
   "cell_type": "code",
   "execution_count": 69,
   "id": "d4839edb",
   "metadata": {},
   "outputs": [],
   "source": [
    "DATA_GENERATION_PROMPT = \"\"\"\n",
    "You are an expert on generating fake user and fitness data.\n",
    "\n",
    "# Instruction\n",
    "- Generate information of a fake user of a fitness app.\n",
    "- Pay attention to fields descriptions for generating valid data.\n",
    "- Generate {num_samples} samples\n",
    "\"\"\""
   ]
  },
  {
   "cell_type": "code",
   "execution_count": 72,
   "id": "7815e100",
   "metadata": {},
   "outputs": [],
   "source": [
    "from langchain_core.messages import SystemMessage, HumanMessage\n",
    "from langchain_core.output_parsers import JsonOutputParser\n",
    "\n",
    "sample_num = 10\n",
    "\n",
    "messages = [\n",
    "    HumanMessage(\n",
    "        content = DATA_GENERATION_PROMPT.format(num_samples = sample_num)\n",
    "    )\n",
    "]\n",
    "\n",
    "sampler = smoll_llm.with_structured_output(UserSamples)"
   ]
  },
  {
   "cell_type": "code",
   "execution_count": 73,
   "id": "19e3f894",
   "metadata": {},
   "outputs": [
    {
     "data": {
      "text/plain": [
       "UserSamples(users=[UserSample(email='user1@example.com', password='password123', first_name='John', last_name='Doe', date_of_birth=datetime.date(1985, 5, 15), sex=<Sex.M: 'M'>, height_cm=180.0, weight_kg=85.0, activity_level='moderate', dietary_pref='vegetarian', fitness_goals='weight_loss'), UserSample(email='user2@example.com', password='password456', first_name='Jane', last_name='Smith', date_of_birth=datetime.date(1990, 8, 22), sex=<Sex.F: 'F'>, height_cm=165.0, weight_kg=60.0, activity_level='sedentary', dietary_pref='gluten_free', fitness_goals='muscle_gain'), UserSample(email='user3@example.com', password='password789', first_name='Michael', last_name='Johnson', date_of_birth=datetime.date(1978, 11, 30), sex=<Sex.M: 'M'>, height_cm=175.0, weight_kg=90.0, activity_level='active', dietary_pref='none', fitness_goals='endurance'), UserSample(email='user4@example.com', password='password101', first_name='Emily', last_name='Williams', date_of_birth=datetime.date(1992, 3, 14), sex=<Sex.F: 'F'>, height_cm=168.0, weight_kg=55.0, activity_level='moderate', dietary_pref='vegan', fitness_goals='flexibility'), UserSample(email='user5@example.com', password='password102', first_name='David', last_name='Brown', date_of_birth=datetime.date(1988, 7, 20), sex=<Sex.M: 'M'>, height_cm=182.0, weight_kg=88.0, activity_level='active', dietary_pref='pescatarian', fitness_goals='strength'), UserSample(email='user6@example.com', password='password103', first_name='Sarah', last_name='Miller', date_of_birth=datetime.date(1995, 12, 5), sex=<Sex.F: 'F'>, height_cm=170.0, weight_kg=65.0, activity_level='sedentary', dietary_pref='dairy_free', fitness_goals='weight_maintenance'), UserSample(email='user7@example.com', password='password104', first_name='Robert', last_name='Taylor', date_of_birth=datetime.date(1982, 4, 17), sex=<Sex.M: 'M'>, height_cm=178.0, weight_kg=95.0, activity_level='moderate', dietary_pref='keto', fitness_goals='endurance'), UserSample(email='user8@example.com', password='password105', first_name='Olivia', last_name='Anderson', date_of_birth=datetime.date(1993, 9, 28), sex=<Sex.F: 'F'>, height_cm=162.0, weight_kg=50.0, activity_level='active', dietary_pref='low_carb', fitness_goals='fat_loss'), UserSample(email='user9@example.com', password='password106', first_name='James', last_name='Thomas', date_of_birth=datetime.date(1980, 6, 11), sex=<Sex.M: 'M'>, height_cm=185.0, weight_kg=100.0, activity_level='sedentary', dietary_pref='halal', fitness_goals='muscle_gain'), UserSample(email='user10@example.com', password='password107', first_name='Sophia', last_name='Martinez', date_of_birth=datetime.date(1997, 1, 30), sex=<Sex.F: 'F'>, height_cm=167.0, weight_kg=58.0, activity_level='moderate', dietary_pref='keto', fitness_goals='weight_loss')])"
      ]
     },
     "execution_count": 73,
     "metadata": {},
     "output_type": "execute_result"
    }
   ],
   "source": [
    "samples = sampler.invoke(messages)\n",
    "samples"
   ]
  },
  {
   "cell_type": "code",
   "execution_count": 76,
   "id": "90dc4692",
   "metadata": {},
   "outputs": [],
   "source": [
    "from db.db_manager import FitnessDB\n",
    "\n",
    "fittness_db = FitnessDB()"
   ]
  },
  {
   "cell_type": "code",
   "execution_count": 84,
   "id": "35ec7eae",
   "metadata": {},
   "outputs": [],
   "source": [
    "from werkzeug.security import generate_password_hash, check_password_hash\n",
    "\n",
    "for user in samples.users:\n",
    "    fittness_db.create_user(\n",
    "        email = user.email,\n",
    "        password_hash = generate_password_hash(user.password),\n",
    "        first_name = user.first_name,\n",
    "        last_name = user.last_name,\n",
    "        date_of_birth = user.date_of_birth,\n",
    "        sex =  user.sex.value,\n",
    "        height_cm = user.height_cm,\n",
    "        weight_kg = user.weight_kg,\n",
    "        activity_level = user.activity_level,\n",
    "        dietary_pref = user.dietary_pref,\n",
    "        fitness_goals = user.fitness_goals,\n",
    "    )"
   ]
  },
  {
   "cell_type": "code",
   "execution_count": 86,
   "id": "f42c4e54",
   "metadata": {},
   "outputs": [],
   "source": [
    "import json\n",
    "\n",
    "with open(\"data/users.json\", 'w') as f:\n",
    "    json.dump(samples.model_dump_json(), f)"
   ]
  },
  {
   "cell_type": "code",
   "execution_count": null,
   "id": "f8573c50",
   "metadata": {},
   "outputs": [],
   "source": [
    "class Graph:\n",
    "    \n",
    "    def __init__(self, llm, message_class):\n",
    "        self.llm = llm\n",
    "        self.message_class = message_class\n",
    "        \n",
    "    def compile(self):\n",
    "        raise NotImplementedError()"
   ]
  },
  {
   "cell_type": "code",
   "execution_count": 21,
   "id": "875ad125",
   "metadata": {},
   "outputs": [],
   "source": [
    "from langgraph.graph import MessagesState\n",
    "from pydantic import BaseModel, Field\n",
    "from typing import List, Literal\n",
    "\n",
    "class UserMessages(MessagesState):\n",
    "    user_id: int"
   ]
  },
  {
   "cell_type": "code",
   "execution_count": 89,
   "id": "d0b246ed",
   "metadata": {},
   "outputs": [],
   "source": [
    "FITNESS_SYSTEM_PROMPT = \"\"\"\n",
    "You are a smart, supportive diet & fitness AI assistant. Your job is to craft personalized, goal‐driven workout plans based on each user’s profile.\n",
    "\n",
    "# Instructions\n",
    "1. Structure the plan into three phases:  \n",
    "   • Warm-up (5–10 minutes)  \n",
    "   • Main workout (strength/cardio/core, etc.)  \n",
    "   • Cool-down & stretching  \n",
    "\n",
    "2. Tailor every exercise choice to the user’s stated goals, experience level, and any preferences or limitations.\n",
    "\n",
    "3. For each exercise, include:  \n",
    "   • Clear instructions on form & reps/sets/duration  \n",
    "   • Key benefits (e.g. “Strengthens glutes and improves hip stability”)  \n",
    "\n",
    "4. Make the plan actionable and detailed—so a user can open it and start immediately without guesswork.\n",
    "\n",
    "Keep the tone encouraging and professional.  \n",
    "# User Profile\n",
    "Here is the user info:\n",
    "{user_info}\n",
    "\"\"\"\n"
   ]
  },
  {
   "cell_type": "code",
   "execution_count": 94,
   "id": "bfadbf3d",
   "metadata": {},
   "outputs": [],
   "source": [
    "from langchain_core.messages import SystemMessage, HumanMessage\n",
    "from langgraph.graph import END, START, StateGraph\n",
    "\n",
    "class PlannerGraph(Graph):\n",
    "    \n",
    "    def __init__(self, llm, db_manager: FitnessDB, planner_sys_prompt: str):\n",
    "        super().__init__(llm, UserMessages)\n",
    "        self.db_manager = db_manager\n",
    "        self.planner_sys_prompt = planner_sys_prompt\n",
    "    \n",
    "    \n",
    "    def node_plan(self, state):\n",
    "        \n",
    "        user_info = self.db_manager.get_user(state['user_id'])\n",
    "        messages = [\n",
    "            SystemMessage(\n",
    "                content = self.planner_sys_prompt.format(user_info = user_info)\n",
    "            )\n",
    "        ]\n",
    "        response = llm.invoke(messages + state['messages'])\n",
    "        state['messages'].append(response)\n",
    "        return response\n",
    "\n",
    "    \n",
    "    def compile(self):\n",
    "        graph_builder = StateGraph(self.message_class)\n",
    "        graph_builder.add_node(\"node_plan\", self.node_plan)\n",
    "        graph_builder.add_edge(START, \"node_plan\")\n",
    "        graph_builder.add_edge(\"node_plan\", END)\n",
    "        self.graph_compiled = graph_builder.compile()\n",
    "        return self.graph_compiled\n",
    "        \n",
    "        \n",
    "        \n",
    "        "
   ]
  },
  {
   "cell_type": "code",
   "execution_count": 95,
   "id": "9702c738",
   "metadata": {},
   "outputs": [],
   "source": [
    "fitnessgraph = PlannerGraph(llm, fittness_db, FITNESS_SYSTEM_PROMPT).compile()"
   ]
  },
  {
   "cell_type": "code",
   "execution_count": 96,
   "id": "c86c8882",
   "metadata": {},
   "outputs": [
    {
     "data": {
      "text/plain": [
       "{'messages': [HumanMessage(content='give me a plan.', additional_kwargs={}, response_metadata={}, id='e65b60c6-e60b-4424-9e7e-af7a494214d5'),\n",
       "  AIMessage(content=\"Here is a personalized workout plan designed to help you achieve your weight loss goals, tailored to your moderate activity level. This plan focuses on a full-body approach, combining strength and cardiovascular elements to maximize calorie burn and build lean muscle.\\n\\nLet's get you started, John!\\n\\n---\\n\\n### **Your Personalized Weight Loss Workout Plan**\\n\\n**Goal:** Weight Loss\\n**Focus:** Full-body strength, cardiovascular endurance, and calorie expenditure.\\n\\n**Instructions:**\\n*   Aim to perform this workout 3-4 times per week, with at least one rest day in between sessions.\\n*   Listen to your body. If an exercise causes pain, stop immediately.\\n*   Focus on proper form over speed or number of reps.\\n*   Stay hydrated throughout your workout.\\n\\n---\\n\\n#### **Phase 1: Warm-up (8-10 minutes)**\\nThis phase prepares your muscles and joints for the workout, increasing blood flow and reducing the risk of injury.\\n\\n1.  **Jumping Jacks**\\n    *   **Instructions:** Stand with feet together, arms at your sides. Jump, spreading your feet wide and bringing your arms overhead. Jump back to the starting position.\\n    *   **Duration:** 60 seconds\\n    *   **Benefits:** Increases heart rate, warms up the entire body, and improves coordination.\\n\\n2.  **Arm Circles (Forward & Backward)**\\n    *   **Instructions:** Stand tall with arms extended out to the sides. Make small, controlled circles forward for 30 seconds, then switch to backward circles for 30 seconds. Gradually increase the size of the circles.\\n    *   **Duration:** 60 seconds (30s forward, 30s backward)\\n    *   **Benefits:** Warms up shoulders, rotator cuffs, and upper back.\\n\\n3.  **Dynamic Leg Swings (Forward & Side)**\\n    *   **Instructions:** Hold onto a wall or sturdy object for balance. Swing one leg forward and backward in a controlled motion for 30 seconds. Then, swing the same leg side-to-side for 30 seconds. Switch legs and repeat.\\n    *   **Duration:** 2 minutes (30s each direction per leg)\\n    *   **Benefits:** Improves hip mobility, warms up hamstrings, quads, and hip flexors.\\n\\n4.  **Torso Twists**\\n    *   **Instructions:** Stand with feet shoulder-width apart, knees slightly bent, and arms bent at your sides. Gently twist your torso from side to side, allowing your arms to swing naturally.\\n    *   **Duration:** 60 seconds\\n    *   **Benefits:** Warms up the spine and core muscles, improving rotational flexibility.\\n\\n5.  **Walking Lunges**\\n    *   **Instructions:** Step forward with one leg, lowering your hips until both knees are bent at approximately a 90-degree angle. Your front knee should be directly above your ankle, and your back knee should hover just above the ground. Push off your back foot to bring it forward and step into the next lunge.\\n    *   **Duration:** 60 seconds (approx. 10-12 lunges per leg)\\n    *   **Benefits:** Activates leg muscles (quads, hamstrings, glutes) and improves balance.\\n\\n---\\n\\n#### **Phase 2: Main Workout (30-40 minutes)**\\nThis circuit-style workout maximizes calorie burn by keeping your heart rate elevated and engaging multiple muscle groups simultaneously. Perform each exercise in the circuit back-to-back with minimal rest (15-30 seconds). Once you complete one full round of all exercises, rest for 60-90 seconds before starting the next round.\\n\\n**Complete 3-4 Rounds of the following circuit:**\\n\\n1.  **Bodyweight Squats**\\n    *   **Instructions:** Stand with feet shoulder-width apart, toes pointing slightly out. Keep your chest up and core engaged. Lower your hips as if sitting into a chair, ensuring your knees track in line with your toes. Go as deep as comfortable while maintaining good form. Push through your heels to return to the starting position.\\n    *   **Reps:** 12-15 repetitions\\n    *   **Benefits:** Strengthens glutes, quads, hamstrings, and improves hip mobility. A foundational exercise for overall lower body strength and calorie expenditure.\\n\\n2.  **Push-ups (Knees or Toes)**\\n    *   **Instructions:** Start in a plank position with hands slightly wider than shoulder-width apart. Keep your body in a straight line from head to heels (or knees if on your knees). Lower your chest towards the floor by bending your elbows. Push back up to the starting position.\\n    *   **Reps:** 8-12 repetitions (or as many as you can with good form)\\n    *   **Benefits:** Strengthens chest, shoulders, triceps, and core. An excellent compound upper-body exercise.\\n\\n3.  **Alternating Reverse Lunges**\\n    *   **Instructions:** Stand tall, feet hip-width apart. Step backward with one leg, lowering your hips until both knees are bent at 90 degrees. Push off your back foot to return to the starting position. Alternate legs with each repetition.\\n    *   **Reps:** 10-12 repetitions per leg (20-24 total)\\n    *   **Benefits:** Strengthens glutes, quads, and hamstrings, improves balance, and works each leg independently for better muscle symmetry.\\n\\n4.  **Plank**\\n    *   **Instructions:** Start in a push-up position, then lower down onto your forearms, keeping your elbows directly under your shoulders. Maintain a straight line from your head to your heels, engaging your core and glutes. Avoid letting your hips sag or rise too high.\\n    *   **Duration:** Hold for 30-60 seconds\\n    *   **Benefits:** Builds core strength and stability, crucial for all movements and injury prevention.\\n\\n5.  **High Knees**\\n    *   **Instructions:** Stand in place. Quickly run in place, bringing your knees up towards your chest as high as possible. Pump your arms rhythmically.\\n    *   **Duration:** 45-60 seconds\\n    *   **Benefits:** A high-intensity cardio burst that elevates heart rate, improves cardiovascular fitness, and burns calories.\\n\\n6.  **Glute Bridges**\\n    *   **Instructions:** Lie on your back with knees bent, feet flat on the floor hip-width apart, and arms by your sides. Engage your glutes and lift your hips off the floor until your body forms a straight line from your shoulders to your knees. Squeeze your glutes at the top. Slowly lower back down.\\n    *   **Reps:** 15-20 repetitions\\n    *   **Benefits:** Strengthens glutes and hamstrings, improves hip extension, and helps counteract prolonged sitting.\\n\\n---\\n\\n#### **Phase 3: Cool-down & Stretching (5-10 minutes)**\\nThis phase helps your body recover, improves flexibility, and reduces muscle soreness. Hold each stretch for 20-30 seconds, breathing deeply.\\n\\n1.  **Quad Stretch (Standing or Lying)**\\n    *   **Instructions:** Stand and hold onto a wall for balance. Grab your right ankle with your right hand and gently pull your heel towards your glutes, feeling the stretch in the front of your thigh. Keep your knees close together. Repeat on the other side.\\n    *   **Benefits:** Stretches the quadriceps (front of thigh).\\n\\n2.  **Hamstring Stretch (Standing or Seated)**\\n    *   **Instructions:** Sit on the floor with one leg extended straight out, and the other leg bent with the sole of your foot touching your inner thigh. Keeping your back straight, hinge at your hips and reach towards your extended foot. Repeat on the other side.\\n    *   **Benefits:** Stretches the hamstrings (back of thigh).\\n\\n3.  **Triceps Stretch**\\n    *   **Instructions:** Raise one arm overhead, then bend your elbow so your hand reaches down your back. Use your other hand to gently push down on the bent elbow, deepening the stretch in your triceps. Repeat on the other side.\\n    *   **Benefits:** Stretches the triceps (back of upper arm).\\n\\n4.  **Chest Stretch (Doorway or Wall)**\\n    *   **Instructions:** Stand in a doorway or near a wall. Place your forearm against the frame/wall, with your elbow bent at 90 degrees. Gently lean forward until you feel a stretch across your chest and front of your shoulder. Repeat on the other side.\\n    *   **Benefits:** Opens up the chest and shoulders, counteracting hunched posture.\\n\\n5.  **Figure-Four Stretch (Glutes)**\\n    *   **Instructions:** Lie on your back with knees bent and feet flat. Cross your right ankle over your left knee. Gently pull your left thigh towards your chest until you feel a stretch in your right glute. Hold, then repeat on the other side.\\n    *   **Benefits:** Stretches the glutes and outer hip.\\n\\n---\\n\\nRemember, consistency is key for weight loss and fitness. Combined with a balanced, healthy diet (which you're already on track with as a vegetarian!), this plan will help you make significant progress towards your goals.\\n\\nYou've got this, John! Let me know if you have any questions or would like adjustments.\", additional_kwargs={}, response_metadata={'prompt_feedback': {'block_reason': 0, 'safety_ratings': []}, 'finish_reason': 'STOP', 'model_name': 'models/gemini-2.5-flash-preview-05-20', 'safety_ratings': []}, id='run--d16aa949-ee94-4e48-bcfd-f4b3f719aa8e-0', usage_metadata={'input_tokens': 466, 'output_tokens': 2040, 'total_tokens': 3437, 'input_token_details': {'cache_read': 0}, 'output_token_details': {'reasoning': 931}})],\n",
       " 'user_id': 1}"
      ]
     },
     "execution_count": 96,
     "metadata": {},
     "output_type": "execute_result"
    }
   ],
   "source": [
    "messages = [HumanMessage(content = 'give me a plan.')]\n",
    "fitnessgraph.invoke({\n",
    "    'messages':  messages,\n",
    "    'user_id': 1\n",
    "})"
   ]
  },
  {
   "cell_type": "code",
   "execution_count": null,
   "id": "02193b06",
   "metadata": {},
   "outputs": [],
   "source": []
  }
 ],
 "metadata": {
  "kernelspec": {
   "display_name": "Python 3 (ipykernel)",
   "language": "python",
   "name": "python3"
  },
  "language_info": {
   "codemirror_mode": {
    "name": "ipython",
    "version": 3
   },
   "file_extension": ".py",
   "mimetype": "text/x-python",
   "name": "python",
   "nbconvert_exporter": "python",
   "pygments_lexer": "ipython3",
   "version": "3.11.5"
  }
 },
 "nbformat": 4,
 "nbformat_minor": 5
}
